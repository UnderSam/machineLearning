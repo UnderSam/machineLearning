{
 "cells": [
  {
   "cell_type": "code",
   "execution_count": 1,
   "metadata": {},
   "outputs": [],
   "source": [
    "import pandas as pd\n",
    "import numpy as np\n",
    "from collections import Counter\n",
    "%matplotlib inline"
   ]
  },
  {
   "cell_type": "code",
   "execution_count": 2,
   "metadata": {},
   "outputs": [],
   "source": [
    "dataset = []\n",
    "for x in open(\"iris.data\",\"r\"):\n",
    "    dataset.append([x.replace('\\n','') for x in x.split(',')])"
   ]
  },
  {
   "cell_type": "code",
   "execution_count": 3,
   "metadata": {},
   "outputs": [],
   "source": [
    "df = pd.DataFrame(dataset,columns=['sepal length in cm','sepal width in cm','petal length in cm','petal width in cm','class'])"
   ]
  },
  {
   "cell_type": "code",
   "execution_count": 4,
   "metadata": {},
   "outputs": [
    {
     "data": {
      "text/html": [
       "<div>\n",
       "<style scoped>\n",
       "    .dataframe tbody tr th:only-of-type {\n",
       "        vertical-align: middle;\n",
       "    }\n",
       "\n",
       "    .dataframe tbody tr th {\n",
       "        vertical-align: top;\n",
       "    }\n",
       "\n",
       "    .dataframe thead th {\n",
       "        text-align: right;\n",
       "    }\n",
       "</style>\n",
       "<table border=\"1\" class=\"dataframe\">\n",
       "  <thead>\n",
       "    <tr style=\"text-align: right;\">\n",
       "      <th></th>\n",
       "      <th>sepal length in cm</th>\n",
       "      <th>sepal width in cm</th>\n",
       "      <th>petal length in cm</th>\n",
       "      <th>petal width in cm</th>\n",
       "      <th>class</th>\n",
       "    </tr>\n",
       "  </thead>\n",
       "  <tbody>\n",
       "    <tr>\n",
       "      <th>0</th>\n",
       "      <td>5.1</td>\n",
       "      <td>3.5</td>\n",
       "      <td>1.4</td>\n",
       "      <td>0.2</td>\n",
       "      <td>Iris-setosa</td>\n",
       "    </tr>\n",
       "    <tr>\n",
       "      <th>1</th>\n",
       "      <td>4.9</td>\n",
       "      <td>3.0</td>\n",
       "      <td>1.4</td>\n",
       "      <td>0.2</td>\n",
       "      <td>Iris-setosa</td>\n",
       "    </tr>\n",
       "    <tr>\n",
       "      <th>2</th>\n",
       "      <td>4.7</td>\n",
       "      <td>3.2</td>\n",
       "      <td>1.3</td>\n",
       "      <td>0.2</td>\n",
       "      <td>Iris-setosa</td>\n",
       "    </tr>\n",
       "    <tr>\n",
       "      <th>3</th>\n",
       "      <td>4.6</td>\n",
       "      <td>3.1</td>\n",
       "      <td>1.5</td>\n",
       "      <td>0.2</td>\n",
       "      <td>Iris-setosa</td>\n",
       "    </tr>\n",
       "    <tr>\n",
       "      <th>4</th>\n",
       "      <td>5.0</td>\n",
       "      <td>3.6</td>\n",
       "      <td>1.4</td>\n",
       "      <td>0.2</td>\n",
       "      <td>Iris-setosa</td>\n",
       "    </tr>\n",
       "  </tbody>\n",
       "</table>\n",
       "</div>"
      ],
      "text/plain": [
       "  sepal length in cm sepal width in cm petal length in cm petal width in cm  \\\n",
       "0                5.1               3.5                1.4               0.2   \n",
       "1                4.9               3.0                1.4               0.2   \n",
       "2                4.7               3.2                1.3               0.2   \n",
       "3                4.6               3.1                1.5               0.2   \n",
       "4                5.0               3.6                1.4               0.2   \n",
       "\n",
       "         class  \n",
       "0  Iris-setosa  \n",
       "1  Iris-setosa  \n",
       "2  Iris-setosa  \n",
       "3  Iris-setosa  \n",
       "4  Iris-setosa  "
      ]
     },
     "execution_count": 4,
     "metadata": {},
     "output_type": "execute_result"
    }
   ],
   "source": [
    "df.head()"
   ]
  },
  {
   "cell_type": "code",
   "execution_count": 5,
   "metadata": {},
   "outputs": [],
   "source": [
    "from sklearn.preprocessing import LabelEncoder\n",
    "labelencoder = LabelEncoder()\n",
    "df_label = df.copy()\n",
    "df_label['class'] = labelencoder.fit_transform(df_label['class'])"
   ]
  },
  {
   "cell_type": "code",
   "execution_count": 6,
   "metadata": {},
   "outputs": [
    {
     "data": {
      "text/plain": [
       "array(['Iris-setosa', 'Iris-versicolor', 'Iris-virginica'], dtype=object)"
      ]
     },
     "execution_count": 6,
     "metadata": {},
     "output_type": "execute_result"
    }
   ],
   "source": [
    "df['class'].unique()"
   ]
  },
  {
   "cell_type": "code",
   "execution_count": 7,
   "metadata": {},
   "outputs": [
    {
     "data": {
      "text/html": [
       "<div>\n",
       "<style scoped>\n",
       "    .dataframe tbody tr th:only-of-type {\n",
       "        vertical-align: middle;\n",
       "    }\n",
       "\n",
       "    .dataframe tbody tr th {\n",
       "        vertical-align: top;\n",
       "    }\n",
       "\n",
       "    .dataframe thead th {\n",
       "        text-align: right;\n",
       "    }\n",
       "</style>\n",
       "<table border=\"1\" class=\"dataframe\">\n",
       "  <thead>\n",
       "    <tr style=\"text-align: right;\">\n",
       "      <th></th>\n",
       "      <th>sepal length in cm</th>\n",
       "      <th>sepal width in cm</th>\n",
       "      <th>petal length in cm</th>\n",
       "      <th>petal width in cm</th>\n",
       "      <th>class</th>\n",
       "    </tr>\n",
       "  </thead>\n",
       "  <tbody>\n",
       "    <tr>\n",
       "      <th>0</th>\n",
       "      <td>5.1</td>\n",
       "      <td>3.5</td>\n",
       "      <td>1.4</td>\n",
       "      <td>0.2</td>\n",
       "      <td>0</td>\n",
       "    </tr>\n",
       "    <tr>\n",
       "      <th>1</th>\n",
       "      <td>4.9</td>\n",
       "      <td>3.0</td>\n",
       "      <td>1.4</td>\n",
       "      <td>0.2</td>\n",
       "      <td>0</td>\n",
       "    </tr>\n",
       "    <tr>\n",
       "      <th>2</th>\n",
       "      <td>4.7</td>\n",
       "      <td>3.2</td>\n",
       "      <td>1.3</td>\n",
       "      <td>0.2</td>\n",
       "      <td>0</td>\n",
       "    </tr>\n",
       "    <tr>\n",
       "      <th>3</th>\n",
       "      <td>4.6</td>\n",
       "      <td>3.1</td>\n",
       "      <td>1.5</td>\n",
       "      <td>0.2</td>\n",
       "      <td>0</td>\n",
       "    </tr>\n",
       "    <tr>\n",
       "      <th>4</th>\n",
       "      <td>5.0</td>\n",
       "      <td>3.6</td>\n",
       "      <td>1.4</td>\n",
       "      <td>0.2</td>\n",
       "      <td>0</td>\n",
       "    </tr>\n",
       "  </tbody>\n",
       "</table>\n",
       "</div>"
      ],
      "text/plain": [
       "  sepal length in cm sepal width in cm petal length in cm petal width in cm  \\\n",
       "0                5.1               3.5                1.4               0.2   \n",
       "1                4.9               3.0                1.4               0.2   \n",
       "2                4.7               3.2                1.3               0.2   \n",
       "3                4.6               3.1                1.5               0.2   \n",
       "4                5.0               3.6                1.4               0.2   \n",
       "\n",
       "   class  \n",
       "0      0  \n",
       "1      0  \n",
       "2      0  \n",
       "3      0  \n",
       "4      0  "
      ]
     },
     "execution_count": 7,
     "metadata": {},
     "output_type": "execute_result"
    }
   ],
   "source": [
    "df_label.head()"
   ]
  },
  {
   "cell_type": "code",
   "execution_count": 8,
   "metadata": {},
   "outputs": [],
   "source": [
    "for col in df_label.columns:\n",
    "    df_label[col] = df_label[col].astype(float)"
   ]
  },
  {
   "cell_type": "code",
   "execution_count": 9,
   "metadata": {},
   "outputs": [],
   "source": [
    "nd_array = df_label.values"
   ]
  },
  {
   "cell_type": "code",
   "execution_count": 10,
   "metadata": {},
   "outputs": [],
   "source": [
    "X, y = np.split(nd_array,[-1],axis=1)\n",
    "y = y.astype(int)"
   ]
  },
  {
   "cell_type": "code",
   "execution_count": 11,
   "metadata": {},
   "outputs": [],
   "source": [
    "from sklearn.model_selection import StratifiedShuffleSplit"
   ]
  },
  {
   "cell_type": "code",
   "execution_count": 12,
   "metadata": {},
   "outputs": [
    {
     "data": {
      "text/plain": [
       "5"
      ]
     },
     "execution_count": 12,
     "metadata": {},
     "output_type": "execute_result"
    }
   ],
   "source": [
    "sss = StratifiedShuffleSplit(n_splits=5, test_size=0.5, random_state=0)\n",
    "sss.get_n_splits(X, y)"
   ]
  },
  {
   "cell_type": "code",
   "execution_count": 13,
   "metadata": {
    "scrolled": true
   },
   "outputs": [
    {
     "name": "stdout",
     "output_type": "stream",
     "text": [
      "StratifiedShuffleSplit(n_splits=5, random_state=0, test_size=0.5,\n",
      "            train_size=None)\n"
     ]
    }
   ],
   "source": [
    "print(sss)"
   ]
  },
  {
   "cell_type": "code",
   "execution_count": 14,
   "metadata": {},
   "outputs": [],
   "source": [
    "for train_index, test_index in sss.split(X, y):\n",
    "    x_train, x_test = X[train_index], X[test_index]\n",
    "    y_train, y_test = y[train_index], y[test_index]"
   ]
  },
  {
   "cell_type": "code",
   "execution_count": 15,
   "metadata": {},
   "outputs": [],
   "source": [
    "from numpy import dot\n",
    "def KNN(k,x_train,x_test,y_train,y_test):\n",
    "    error_count = 0\n",
    "    right_count = 0\n",
    "    for testIdx,test in enumerate(x_test):\n",
    "        distances = []\n",
    "        for trainIdx,train in enumerate(x_train):\n",
    "            #Minkowski default n is 2 and is equal to euclidean distance\n",
    "            dist = np.sqrt(np.sum((train - test) ** 2))\n",
    "            distances.append((trainIdx,dist))\n",
    "        #sort distance list by lambda function\n",
    "        distances.sort(key=lambda x: x[1])\n",
    "        count = []\n",
    "        #voting result with list to find the class\n",
    "        for i in range(k):\n",
    "            count.append(y_train.item(distances[i][0]))\n",
    "        typecounter = Counter(count)\n",
    "        predict = typecounter.most_common(1)[0][0]\n",
    "        #count the result and print out\n",
    "        if(predict != y_test.item(testIdx)):\n",
    "            error_count+=1\n",
    "        elif(predict == y_test.item(testIdx)):\n",
    "            right_count+=1\n",
    "    return (error_count/y_train.size)"
   ]
  },
  {
   "cell_type": "code",
   "execution_count": 16,
   "metadata": {
    "scrolled": true
   },
   "outputs": [
    {
     "name": "stdout",
     "output_type": "stream",
     "text": [
      "k = 1\n",
      "train error : 0.0000 \n",
      "test error : 0.0400 \n",
      "k = 2\n",
      "train error : 0.0000 \n",
      "test error : 0.0400 \n",
      "k = 3\n",
      "train error : 0.0267 \n",
      "test error : 0.0400 \n",
      "k = 4\n",
      "train error : 0.0133 \n",
      "test error : 0.0400 \n",
      "k = 5\n",
      "train error : 0.0133 \n",
      "test error : 0.0133 \n",
      "k = 6\n",
      "train error : 0.0133 \n",
      "test error : 0.0267 \n",
      "k = 7\n",
      "train error : 0.0133 \n",
      "test error : 0.0267 \n",
      "k = 8\n",
      "train error : 0.0133 \n",
      "test error : 0.0267 \n",
      "k = 9\n",
      "train error : 0.0133 \n",
      "test error : 0.0267 \n",
      "k = 10\n",
      "train error : 0.0133 \n",
      "test error : 0.0400 \n",
      "k = 11\n",
      "train error : 0.0133 \n",
      "test error : 0.0267 \n",
      "k = 12\n",
      "train error : 0.0133 \n",
      "test error : 0.0133 \n",
      "k = 13\n",
      "train error : 0.0133 \n",
      "test error : 0.0133 \n",
      "k = 14\n",
      "train error : 0.0133 \n",
      "test error : 0.0267 \n",
      "k = 15\n",
      "train error : 0.0267 \n",
      "test error : 0.0400 \n",
      "k = 16\n",
      "train error : 0.0133 \n",
      "test error : 0.0267 \n",
      "k = 17\n",
      "train error : 0.0133 \n",
      "test error : 0.0400 \n",
      "k = 18\n",
      "train error : 0.0133 \n",
      "test error : 0.0667 \n",
      "k = 19\n",
      "train error : 0.0267 \n",
      "test error : 0.0533 \n",
      "k = 20\n",
      "train error : 0.0267 \n",
      "test error : 0.0533 \n"
     ]
    }
   ],
   "source": [
    "train_accu = []\n",
    "test_accu = []\n",
    "train_error = []\n",
    "test_error = []\n",
    "for k in range(1,21):\n",
    "    # training error\n",
    "    print(\"k = %d\"%(k))\n",
    "    print(\"train error : %.4f \"%(KNN(k,x_train,x_train,y_train,y_train)))\n",
    "    train_accu.append(1-KNN(k,x_train,x_train,y_train,y_train))\n",
    "    train_error.append(KNN(k,x_train,x_train,y_train,y_train))\n",
    "    # test error\n",
    "    print(\"test error : %.4f \"%(KNN(k,x_train,x_test,y_train,y_test)))\n",
    "    test_accu.append(1-KNN(k,x_train,x_test,y_train,y_test))\n",
    "    test_error.append(KNN(k,x_train,x_test,y_train,y_test))"
   ]
  },
  {
   "cell_type": "code",
   "execution_count": 17,
   "metadata": {},
   "outputs": [],
   "source": [
    "import matplotlib.pyplot as plt"
   ]
  },
  {
   "cell_type": "code",
   "execution_count": 18,
   "metadata": {},
   "outputs": [
    {
     "data": {
      "text/plain": [
       "[<matplotlib.lines.Line2D at 0x1a201a2ac8>]"
      ]
     },
     "execution_count": 18,
     "metadata": {},
     "output_type": "execute_result"
    },
    {
     "data": {
      "image/png": "[encoded data removed]",
      "text/plain": [
       "<Figure size 432x288 with 1 Axes>"
      ]
     },
     "metadata": {},
     "output_type": "display_data"
    }
   ],
   "source": [
    "plt.plot(train_accu)"
   ]
  },
  {
   "cell_type": "code",
   "execution_count": 19,
   "metadata": {},
   "outputs": [
    {
     "data": {
      "text/plain": [
       "[<matplotlib.lines.Line2D at 0x1a201f9080>]"
      ]
     },
     "execution_count": 19,
     "metadata": {},
     "output_type": "execute_result"
    },
    {
     "data": {
      "image/png": "[encoded data removed]",
      "text/plain": [
       "<Figure size 432x288 with 1 Axes>"
      ]
     },
     "metadata": {},
     "output_type": "display_data"
    }
   ],
   "source": [
    "plt.plot(test_accu)"
   ]
  },
  {
   "cell_type": "code",
   "execution_count": 20,
   "metadata": {},
   "outputs": [
    {
     "data": {
      "text/plain": [
       "[<matplotlib.lines.Line2D at 0x1a203bf2e8>]"
      ]
     },
     "execution_count": 20,
     "metadata": {},
     "output_type": "execute_result"
    },
    {
     "data": {
      "image/png": "[encoded data removed]",
      "text/plain": [
       "<Figure size 432x288 with 1 Axes>"
      ]
     },
     "metadata": {},
     "output_type": "display_data"
    }
   ],
   "source": [
    "plt.plot(train_error)"
   ]
  },
  {
   "cell_type": "code",
   "execution_count": 21,
   "metadata": {},
   "outputs": [
    {
     "data": {
      "text/plain": [
       "[<matplotlib.lines.Line2D at 0x1a20327048>]"
      ]
     },
     "execution_count": 21,
     "metadata": {},
     "output_type": "execute_result"
    },
    {
     "data": {
      "image/png": "[encoded data removed]",
      "text/plain": [
       "<Figure size 432x288 with 1 Axes>"
      ]
     },
     "metadata": {},
     "output_type": "display_data"
    }
   ],
   "source": [
    "plt.plot(test_error)"
   ]
  },
  {
   "cell_type": "code",
   "execution_count": 35,
   "metadata": {},
   "outputs": [
    {
     "name": "stdout",
     "output_type": "stream",
     "text": [
      "[{'label': 2, 'weight': 0.17320508075688787}]\n",
      "[{'label': 1, 'weight': 0.3162277660168377}]\n",
      "[{'label': 2, 'weight': 0.24494897427831822}]\n",
      "[{'label': 0, 'weight': 0.264575131106459}]\n",
      "[{'label': 2, 'weight': 0.3464101615137756}]\n",
      "[{'label': 0, 'weight': 0.19999999999999993}]\n",
      "[{'label': 1, 'weight': 0.3741657386773941}]\n",
      "[{'label': 0, 'weight': 0.1999999999999998}]\n",
      "[{'label': 2, 'weight': 0.4123105625617659}]\n",
      "[{'label': 1, 'weight': 0.4242640687119284}]\n",
      "[{'label': 0, 'weight': 0.17320508075688756}]\n",
      "[{'label': 2, 'weight': 0.31622776601683755}]\n",
      "[{'label': 1, 'weight': 0.3464101615137753}]\n",
      "[{'label': 0, 'weight': 0.09999999999999964}]\n",
      "[{'label': 1, 'weight': 0.24494897427831766}]\n",
      "[{'label': 0, 'weight': 0.3}]\n",
      "[{'label': 2, 'weight': 0.8831760866327846}]\n",
      "[{'label': 2, 'weight': 0.282842712474618}]\n",
      "[{'label': 0, 'weight': 0.2999999999999998}]\n",
      "[{'label': 0, 'weight': 0.1414213562373093}]\n",
      "[{'label': 1, 'weight': 0.24494897427831766}]\n",
      "[{'label': 0, 'weight': 0.14142135623730948}]\n",
      "[{'label': 2, 'weight': 0.2449489742783171}]\n",
      "[{'label': 2, 'weight': 0.374165738677394}]\n",
      "[{'label': 2, 'weight': 0.10000000000000009}]\n",
      "[{'label': 2, 'weight': 0.34641016151377513}]\n",
      "[{'label': 2, 'weight': 0.818535277187245}]\n",
      "[{'label': 0, 'weight': 0.0}]\n",
      "[{'label': 2, 'weight': 0.26457513110645936}]\n",
      "[{'label': 1, 'weight': 0.24494897427831722}]\n",
      "[{'label': 1, 'weight': 0.5567764362830022}]\n",
      "[{'label': 2, 'weight': 0.24494897427831785}]\n",
      "[{'label': 1, 'weight': 0.20000000000000018}]\n",
      "[{'label': 2, 'weight': 0.5099019513592784}]\n",
      "[{'label': 0, 'weight': 0.2449489742783178}]\n",
      "[{'label': 0, 'weight': 0.22360679774997896}]\n",
      "[{'label': 0, 'weight': 0.14142135623730964}]\n",
      "[{'label': 0, 'weight': 0.264575131106459}]\n",
      "[{'label': 1, 'weight': 0.26457513110645914}]\n",
      "[{'label': 1, 'weight': 0.2828427124746193}]\n",
      "[{'label': 0, 'weight': 0.0}]\n",
      "[{'label': 0, 'weight': 0.282842712474619}]\n",
      "[{'label': 1, 'weight': 0.3000000000000001}]\n",
      "[{'label': 1, 'weight': 0.1414213562373093}]\n",
      "[{'label': 0, 'weight': 0.33166247903553986}]\n",
      "[{'label': 2, 'weight': 0.17320508075688762}]\n",
      "[{'label': 0, 'weight': 0.4999999999999999}]\n",
      "[{'label': 1, 'weight': 0.14142135623730995}]\n",
      "[{'label': 1, 'weight': 0.31622776601683794}]\n",
      "[{'label': 2, 'weight': 0.38729833462074187}]\n",
      "[{'label': 1, 'weight': 0.3872983346207412}]\n",
      "[{'label': 0, 'weight': 0.17320508075688812}]\n",
      "[{'label': 2, 'weight': 0.0}]\n",
      "[{'label': 0, 'weight': 0.17320508075688767}]\n",
      "[{'label': 1, 'weight': 0.1732050807568884}]\n",
      "[{'label': 1, 'weight': 0.3605551275463989}]\n",
      "[{'label': 0, 'weight': 0.17320508075688812}]\n",
      "[{'label': 2, 'weight': 0.24494897427831783}]\n",
      "[{'label': 1, 'weight': 0.3000000000000001}]\n",
      "[{'label': 2, 'weight': 0.6324555320336759}]\n",
      "[{'label': 1, 'weight': 0.26457513110645914}]\n",
      "[{'label': 1, 'weight': 0.33166247903553975}]\n",
      "[{'label': 2, 'weight': 0.22360679774997896}]\n",
      "[{'label': 2, 'weight': 0.5099019513592784}]\n",
      "[{'label': 0, 'weight': 0.244948974278318}]\n",
      "[{'label': 0, 'weight': 0.14142135623730978}]\n",
      "[{'label': 1, 'weight': 0.24494897427831766}]\n",
      "[{'label': 0, 'weight': 0.14142135623730986}]\n",
      "[{'label': 1, 'weight': 0.2645751311064593}]\n",
      "[{'label': 1, 'weight': 0.26457513110645864}]\n",
      "[{'label': 2, 'weight': 0.26457513110645897}]\n",
      "[{'label': 1, 'weight': 0.4898979485566356}]\n",
      "[{'label': 2, 'weight': 0.22360679774997935}]\n",
      "[{'label': 0, 'weight': 0.24494897427831785}]\n",
      "[{'label': 1, 'weight': 0.30000000000000027}]\n",
      "[{'label': 2, 'weight': 0.17320508075688787}, {'label': 2, 'weight': 0.3605551275463994}]\n",
      "[{'label': 1, 'weight': 0.3162277660168377}, {'label': 1, 'weight': 0.38729833462074176}]\n",
      "[{'label': 2, 'weight': 0.24494897427831822}, {'label': 2, 'weight': 0.3741657386773938}]\n",
      "[{'label': 0, 'weight': 0.264575131106459}, {'label': 0, 'weight': 0.3000000000000002}]\n",
      "[{'label': 2, 'weight': 0.3464101615137756}, {'label': 2, 'weight': 0.5567764362830021}]\n",
      "[{'label': 0, 'weight': 0.19999999999999993}, {'label': 0, 'weight': 0.22360679774997916}]\n",
      "[{'label': 1, 'weight': 0.3741657386773941}, {'label': 1, 'weight': 0.4690415759823428}]\n",
      "[{'label': 0, 'weight': 0.1999999999999998}, {'label': 0, 'weight': 0.3872983346207416}]\n",
      "[{'label': 2, 'weight': 0.4123105625617659}, {'label': 2, 'weight': 0.5477225575051664}]\n",
      "[{'label': 1, 'weight': 0.4242640687119284}, {'label': 1, 'weight': 0.44721359549995804}]\n",
      "[{'label': 0, 'weight': 0.17320508075688756}, {'label': 0, 'weight': 0.17320508075688806}]\n",
      "[{'label': 2, 'weight': 0.31622776601683755}, {'label': 2, 'weight': 0.5000000000000004}]\n",
      "[{'label': 1, 'weight': 0.3464101615137753}, {'label': 1, 'weight': 0.37416573867739383}]\n",
      "[{'label': 0, 'weight': 0.09999999999999964}, {'label': 0, 'weight': 0.14142135623730995}]\n",
      "[{'label': 1, 'weight': 0.24494897427831766}, {'label': 1, 'weight': 0.2828427124746188}]\n",
      "[{'label': 0, 'weight': 0.3}, {'label': 0, 'weight': 0.31622776601683783}]\n",
      "[{'label': 2, 'weight': 0.8831760866327846}, {'label': 2, 'weight': 0.9273618495495703}]\n",
      "[{'label': 2, 'weight': 0.282842712474618}, {'label': 2, 'weight': 0.31622776601683766}]\n",
      "[{'label': 0, 'weight': 0.2999999999999998}, {'label': 0, 'weight': 0.3741657386773938}]\n",
      "[{'label': 0, 'weight': 0.1414213562373093}, {'label': 0, 'weight': 0.14142135623730995}]\n",
      "[{'label': 1, 'weight': 0.24494897427831766}, {'label': 1, 'weight': 0.3000000000000001}]\n",
      "[{'label': 0, 'weight': 0.14142135623730948}, {'label': 0, 'weight': 0.31622776601683816}]\n",
      "[{'label': 2, 'weight': 0.2449489742783171}, {'label': 2, 'weight': 0.3872983346207416}]\n",
      "[{'label': 2, 'weight': 0.374165738677394}, {'label': 2, 'weight': 0.46904157598234314}]\n",
      "[{'label': 2, 'weight': 0.10000000000000009}, {'label': 2, 'weight': 0.30000000000000016}]\n",
      "[{'label': 2, 'weight': 0.34641016151377513}, {'label': 2, 'weight': 0.3605551275463988}]\n",
      "[{'label': 2, 'weight': 0.818535277187245}, {'label': 2, 'weight': 1.0049875621120892}]\n",
      "[{'label': 0, 'weight': 0.0}, {'label': 0, 'weight': 0.1732050807568881}]\n",
      "[{'label': 2, 'weight': 0.26457513110645936}, {'label': 2, 'weight': 0.46904157598234325}]\n",
      "[{'label': 1, 'weight': 0.24494897427831722}, {'label': 1, 'weight': 0.2645751311064587}]\n",
      "[{'label': 1, 'weight': 0.5567764362830022}, {'label': 2, 'weight': 0.6633249580710803}]\n",
      "[{'label': 2, 'weight': 0.24494897427831785}, {'label': 2, 'weight': 0.31622776601683794}]\n",
      "[{'label': 1, 'weight': 0.20000000000000018}, {'label': 1, 'weight': 0.34641016151377546}]\n",
      "[{'label': 2, 'weight': 0.5099019513592784}, {'label': 2, 'weight': 0.7280109889280515}]\n",
      "[{'label': 0, 'weight': 0.2449489742783178}, {'label': 0, 'weight': 0.26457513110645875}]\n",
      "[{'label': 0, 'weight': 0.22360679774997896}, {'label': 0, 'weight': 0.42426406871192857}]\n",
      "[{'label': 0, 'weight': 0.14142135623730964}, {'label': 0, 'weight': 0.22360679774997877}]\n",
      "[{'label': 0, 'weight': 0.264575131106459}, {'label': 0, 'weight': 0.2828427124746191}]\n",
      "[{'label': 1, 'weight': 0.26457513110645914}, {'label': 1, 'weight': 0.45825756949558427}]\n",
      "[{'label': 1, 'weight': 0.2828427124746193}, {'label': 1, 'weight': 0.31622776601683833}]\n",
      "[{'label': 0, 'weight': 0.0}, {'label': 0, 'weight': 0.1732050807568881}]\n",
      "[{'label': 0, 'weight': 0.282842712474619}, {'label': 0, 'weight': 0.3000000000000001}]\n",
      "[{'label': 1, 'weight': 0.3000000000000001}, {'label': 1, 'weight': 0.33166247903553975}]\n",
      "[{'label': 1, 'weight': 0.1414213562373093}, {'label': 1, 'weight': 0.2645751311064588}]\n",
      "[{'label': 0, 'weight': 0.33166247903553986}, {'label': 0, 'weight': 0.3464101615137753}]\n",
      "[{'label': 2, 'weight': 0.17320508075688762}, {'label': 2, 'weight': 0.24494897427831777}]\n",
      "[{'label': 0, 'weight': 0.4999999999999999}, {'label': 0, 'weight': 0.5099019513592782}]\n",
      "[{'label': 1, 'weight': 0.14142135623730995}, {'label': 1, 'weight': 0.17320508075688815}]\n",
      "[{'label': 1, 'weight': 0.31622776601683794}, {'label': 1, 'weight': 0.4242640687119286}]\n",
      "[{'label': 2, 'weight': 0.38729833462074187}, {'label': 2, 'weight': 0.4123105625617659}]\n",
      "[{'label': 1, 'weight': 0.3872983346207412}, {'label': 1, 'weight': 0.3872983346207416}]\n",
      "[{'label': 0, 'weight': 0.17320508075688812}, {'label': 0, 'weight': 0.22360679774997916}]\n",
      "[{'label': 2, 'weight': 0.0}, {'label': 1, 'weight': 0.3605551275463989}]\n",
      "[{'label': 0, 'weight': 0.17320508075688767}, {'label': 0, 'weight': 0.2449489742783178}]\n",
      "[{'label': 1, 'weight': 0.1732050807568884}, {'label': 1, 'weight': 0.1732050807568884}]\n",
      "[{'label': 1, 'weight': 0.3605551275463989}, {'label': 1, 'weight': 0.4582575694955839}]\n",
      "[{'label': 0, 'weight': 0.17320508075688812}, {'label': 0, 'weight': 0.19999999999999998}]\n",
      "[{'label': 2, 'weight': 0.24494897427831783}, {'label': 2, 'weight': 0.24494897427831802}]\n",
      "[{'label': 1, 'weight': 0.3000000000000001}, {'label': 1, 'weight': 0.31622776601683794}]\n",
      "[{'label': 2, 'weight': 0.6324555320336759}, {'label': 2, 'weight': 0.806225774829855}]\n",
      "[{'label': 1, 'weight': 0.26457513110645914}, {'label': 1, 'weight': 0.42426406871192857}]\n",
      "[{'label': 1, 'weight': 0.33166247903553975}, {'label': 1, 'weight': 0.3605551275463984}]\n",
      "[{'label': 2, 'weight': 0.22360679774997896}, {'label': 2, 'weight': 0.2999999999999998}]\n",
      "[{'label': 2, 'weight': 0.5099019513592784}, {'label': 2, 'weight': 0.5567764362830022}]\n",
      "[{'label': 0, 'weight': 0.244948974278318}, {'label': 0, 'weight': 0.3162277660168382}]\n",
      "[{'label': 0, 'weight': 0.14142135623730978}, {'label': 0, 'weight': 0.22360679774997827}]\n",
      "[{'label': 1, 'weight': 0.24494897427831766}, {'label': 1, 'weight': 0.3741657386773941}]\n",
      "[{'label': 0, 'weight': 0.14142135623730986}, {'label': 0, 'weight': 0.17320508075688784}]\n",
      "[{'label': 1, 'weight': 0.2645751311064593}, {'label': 1, 'weight': 0.38729833462074226}]\n",
      "[{'label': 1, 'weight': 0.26457513110645864}, {'label': 1, 'weight': 0.5099019513592786}]\n",
      "[{'label': 2, 'weight': 0.26457513110645897}, {'label': 1, 'weight': 0.547722557505166}]\n",
      "[{'label': 1, 'weight': 0.4898979485566356}, {'label': 1, 'weight': 0.5196152422706634}]\n",
      "[{'label': 2, 'weight': 0.22360679774997935}, {'label': 2, 'weight': 0.26457513110645947}]\n",
      "[{'label': 0, 'weight': 0.24494897427831785}, {'label': 0, 'weight': 0.2999999999999998}]\n",
      "[{'label': 1, 'weight': 0.30000000000000027}, {'label': 1, 'weight': 0.31622776601683783}]\n",
      "   test_data_acc\n",
      "1       0.333333\n",
      "2       0.333333\n"
     ]
    },
    {
     "name": "stderr",
     "output_type": "stream",
     "text": [
      "/Users/wuchengru/anaconda3/lib/python3.6/site-packages/ipykernel_launcher.py:18: RuntimeWarning: divide by zero encountered in double_scalars\n"
     ]
    },
    {
     "data": {
      "image/png": "[encoded data removed]",
      "text/plain": [
       "<Figure size 432x288 with 1 Axes>"
      ]
     },
     "metadata": {},
     "output_type": "display_data"
    }
   ],
   "source": [
    "import operator\n",
    "import numpy as np\n",
    "import pandas as pd\n",
    "from sklearn.model_selection import train_test_split\n",
    "from sklearn.metrics import accuracy_score\n",
    "from sklearn.datasets import load_iris\n",
    "import matplotlib.pyplot as plt\n",
    "\n",
    "## input_x -> row data of x_\n",
    "## features -> X_train\n",
    "## labels -> y_train\n",
    "## k -> k nearest\n",
    "def classify(input_x, features, labels, k):\n",
    "    distances = []\n",
    "    for trainIdx,train in enumerate(features):\n",
    "        #Minkowski default n is 2 and is equal to euclidean distance\n",
    "        dist = np.sqrt(np.sum((train - input_x) ** 2))\n",
    "        distances.append((trainIdx,dist,1/dist))\n",
    "    #sort distance list by lambda function\n",
    "    distances.sort(key=lambda x: x[1])\n",
    "    count = []\n",
    "    \n",
    "    #voting result with list to find the class\n",
    "    for i in range(k):\n",
    "        count.append({\"label\":labels.item(distances[i][0]),\"weight\":distances[i][1]})\n",
    "    print(count)\n",
    "    return 0\n",
    "\n",
    "def predict(X, k):\n",
    "    y = []\n",
    "    for i in X:\n",
    "        y.append(classify(i, X_train, y_train, k))\n",
    "    return y\n",
    "\n",
    "\n",
    "if __name__ == '__main__':\n",
    "    iris = load_iris()\n",
    "    X_train, X_test, y_train, y_test = train_test_split(iris.data, iris.target, test_size=0.5, random_state=0,\n",
    "                                                        stratify=iris.target)\n",
    "\n",
    "    test_data_acc = []\n",
    "    for i in range(1, 3):\n",
    "        y_predict_test_data = predict(X_test, i)\n",
    "        test_data_acc.append(accuracy_score(y_test, y_predict_test_data))\n",
    "    k = range(1, 3)\n",
    "    df = pd.DataFrame({\n",
    "        'test_data_acc': test_data_acc\n",
    "    }, index=k)\n",
    "    print(df)\n",
    "\n",
    "    test_data_acc.insert(0, None)\n",
    "    plt.xlabel('Number of k')\n",
    "    plt.ylabel('Accuracy')\n",
    "    plt.xlim((1, 20))\n",
    "    plt.plot(test_data_acc, label='test_data')\n",
    "    plt.legend()\n",
    "    plt.show()"
   ]
  },
  {
   "cell_type": "code",
   "execution_count": null,
   "metadata": {},
   "outputs": [],
   "source": []
  }
 ],
 "metadata": {
  "kernelspec": {
   "display_name": "Python 3",
   "language": "python",
   "name": "python3"
  },
  "language_info": {
   "codemirror_mode": {
    "name": "ipython",
    "version": 3
   },
   "file_extension": ".py",
   "mimetype": "text/x-python",
   "name": "python",
   "nbconvert_exporter": "python",
   "pygments_lexer": "ipython3",
   "version": "3.6.5"
  }
 },
 "nbformat": 4,
 "nbformat_minor": 2
}
